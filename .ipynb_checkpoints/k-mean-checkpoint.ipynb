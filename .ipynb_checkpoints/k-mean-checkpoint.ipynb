{
 "cells": [
  {
   "cell_type": "code",
   "execution_count": 9,
   "metadata": {},
   "outputs": [],
   "source": "import numpy as np\nimport matplotlib.pyplot as plt"
  },
  {
   "cell_type": "code",
   "execution_count": 2,
   "metadata": {},
   "outputs": [
    {
     "data": {
      "text/plain": "4"
     },
     "execution_count": 2,
     "metadata": {},
     "output_type": "execute_result"
    }
   ],
   "source": "\"\"\"\nk-mean algorithm\nstep 1: decide the number of clusters\nstep 2: initialize the centers of the clusters\nstep 3: clustering\nstep 4: re-calculate the new centers\n--- repeat step 3-4 until new centers == old centers\n\"\"\""
  },
  {
   "cell_type": "code",
   "execution_count": 166,
   "metadata": {},
   "outputs": [],
   "source": "means = [[1, 2], [4, 7], [9, 1]]\ncov = [[1,0],[0,1]]\ncluster_0 = np.random.multivariate_normal(means[0], cov, 1000)\ncluster_1 = np.random.multivariate_normal(means[1], cov, 1000)\ncluster_2 = np.random.multivariate_normal(means[2], cov, 1000)\nall_data = np.concatenate((cluster_0, cluster_1, cluster_2))\nlabels = []"
  },
  {
   "cell_type": "code",
   "execution_count": null,
   "metadata": {},
   "outputs": [],
   "source": ""
  },
  {
   "cell_type": "code",
   "execution_count": 167,
   "metadata": {},
   "outputs": [
    {
     "data": {
      "image/png": "[encoded data removed]",
      "text/plain": "<Figure size 432x288 with 1 Axes>"
     },
     "metadata": {
      "needs_background": "light"
     },
     "output_type": "display_data"
    }
   ],
   "source": "# plot data\ndef plot_data(c0, c1, c2):\n    plt.plot(c0[:,0],c0[:,1],'o',color='red')\n    plt.plot(c1[:,0],c1[:,1],'^b',color='blue')\n    plt.plot(c2[:,0],c2[:,1],'rs',color='green')\n    plt.axis('equal')\n    plt.show()\n    \nplot_data(cluster_0, cluster_1, cluster_2)"
  },
  {
   "cell_type": "code",
   "execution_count": 44,
   "metadata": {},
   "outputs": [],
   "source": "# step 1: number of cluster --> num\nK = 3"
  },
  {
   "cell_type": "code",
   "execution_count": 79,
   "metadata": {},
   "outputs": [],
   "source": "# step 2: initialize the centers of the clusters\ndef initialize_centers(data, num):\n    indexs = np.random.choice(data.shape[0], num)\n    return data[indexs]"
  },
  {
   "cell_type": "code",
   "execution_count": 80,
   "metadata": {
    "scrolled": true
   },
   "outputs": [],
   "source": "# step 3: clustering -> get value for labels\nfrom scipy.spatial import distance\ndef clustering(data, centers):\n    dist = distance.cdist(data, centers)\n    return np.argmin(dist, axis=1)"
  },
  {
   "cell_type": "code",
   "execution_count": 112,
   "metadata": {},
   "outputs": [],
   "source": "# step 4: re-calculate the new centers\ndef calculate_new_centers(data, labels, num):\n    new_centers = np.zeros_like(centers)\n    for i in range(0,num):\n        center = np.mean(data[labels == i,:], axis=0)\n        new_centers[i,:] = center\n    return new_centers"
  },
  {
   "cell_type": "code",
   "execution_count": 148,
   "metadata": {
    "scrolled": true
   },
   "outputs": [
    {
     "name": "stdout",
     "output_type": "stream",
     "text": "[[ 0.95876346  2.04455635]\n [ 3.97139179  7.00556139]\n [ 9.04175898  0.97031558]]\n"
    }
   ],
   "source": "def kmean(data, num):\n    centers = initialize_centers(data, num)\n    labels = clustering(data, centers)\n    new_centers = calculate_new_centers(data, labels, num)\n    while True:\n        labels = clustering(data, centers)\n        new_centers = calculate_new_centers(data, labels, num)\n        if ((new_centers == centers).all()):\n            break\n        else:\n            centers = new_centers\n    return centers, labels\n\ncenters, labels =  kmean(all_data, K)\nprint(centers)               "
  },
  {
   "cell_type": "code",
   "execution_count": 168,
   "metadata": {},
   "outputs": [],
   "source": "def plot_result(data, labels):\n    cluster_0 = data[labels == 0,:]\n    cluster_1 = data[labels == 1,:]\n    cluster_2 = data[labels == 2,:]\n    plot_data(cluster_0, cluster_1, cluster_2)"
  },
  {
   "cell_type": "code",
   "execution_count": 169,
   "metadata": {},
   "outputs": [
    {
     "name": "stderr",
     "output_type": "stream",
     "text": "/Users/phamvanhau/Library/Python/2.7/lib/python/site-packages/ipykernel_launcher.py:2: DeprecationWarning: using a boolean instead of an integer will result in an error in the future\n  \n/Users/phamvanhau/Library/Python/2.7/lib/python/site-packages/ipykernel_launcher.py:3: DeprecationWarning: using a boolean instead of an integer will result in an error in the future\n  This is separate from the ipykernel package so we can avoid doing imports until\n/Users/phamvanhau/Library/Python/2.7/lib/python/site-packages/ipykernel_launcher.py:4: DeprecationWarning: using a boolean instead of an integer will result in an error in the future\n  after removing the cwd from sys.path.\n"
    },
    {
     "ename": "IndexError",
     "evalue": "too many indices",
     "output_type": "error",
     "traceback": [
      "\u001b[0;31m---------------------------------------------------------------------------\u001b[0m",
      "\u001b[0;31mIndexError\u001b[0m                                Traceback (most recent call last)",
      "\u001b[0;32m<ipython-input-169-aa5f47fdb21c>\u001b[0m in \u001b[0;36m<module>\u001b[0;34m()\u001b[0m\n\u001b[0;32m----> 1\u001b[0;31m \u001b[0mplot_result\u001b[0m\u001b[0;34m(\u001b[0m\u001b[0mall_data\u001b[0m\u001b[0;34m,\u001b[0m \u001b[0mlabels\u001b[0m\u001b[0;34m)\u001b[0m\u001b[0;34m\u001b[0m\u001b[0m\n\u001b[0m",
      "\u001b[0;32m<ipython-input-168-85a105fb7b1d>\u001b[0m in \u001b[0;36mplot_result\u001b[0;34m(data, labels)\u001b[0m\n\u001b[1;32m      3\u001b[0m     \u001b[0mcluster_1\u001b[0m \u001b[0;34m=\u001b[0m \u001b[0mdata\u001b[0m\u001b[0;34m[\u001b[0m\u001b[0mlabels\u001b[0m \u001b[0;34m==\u001b[0m \u001b[0;36m1\u001b[0m\u001b[0;34m,\u001b[0m\u001b[0;34m:\u001b[0m\u001b[0;34m]\u001b[0m\u001b[0;34m\u001b[0m\u001b[0m\n\u001b[1;32m      4\u001b[0m     \u001b[0mcluster_2\u001b[0m \u001b[0;34m=\u001b[0m \u001b[0mdata\u001b[0m\u001b[0;34m[\u001b[0m\u001b[0mlabels\u001b[0m \u001b[0;34m==\u001b[0m \u001b[0;36m2\u001b[0m\u001b[0;34m,\u001b[0m\u001b[0;34m:\u001b[0m\u001b[0;34m]\u001b[0m\u001b[0;34m\u001b[0m\u001b[0m\n\u001b[0;32m----> 5\u001b[0;31m     \u001b[0mplot_data\u001b[0m\u001b[0;34m(\u001b[0m\u001b[0mcluster_0\u001b[0m\u001b[0;34m,\u001b[0m \u001b[0mcluster_1\u001b[0m\u001b[0;34m,\u001b[0m \u001b[0mcluster_2\u001b[0m\u001b[0;34m)\u001b[0m\u001b[0;34m\u001b[0m\u001b[0m\n\u001b[0m",
      "\u001b[0;32m<ipython-input-167-9658160d0abc>\u001b[0m in \u001b[0;36mplot_data\u001b[0;34m(c0, c1, c2)\u001b[0m\n\u001b[1;32m      1\u001b[0m \u001b[0;31m# plot data\u001b[0m\u001b[0;34m\u001b[0m\u001b[0;34m\u001b[0m\u001b[0m\n\u001b[1;32m      2\u001b[0m \u001b[0;32mdef\u001b[0m \u001b[0mplot_data\u001b[0m\u001b[0;34m(\u001b[0m\u001b[0mc0\u001b[0m\u001b[0;34m,\u001b[0m \u001b[0mc1\u001b[0m\u001b[0;34m,\u001b[0m \u001b[0mc2\u001b[0m\u001b[0;34m)\u001b[0m\u001b[0;34m:\u001b[0m\u001b[0;34m\u001b[0m\u001b[0m\n\u001b[0;32m----> 3\u001b[0;31m     \u001b[0mplt\u001b[0m\u001b[0;34m.\u001b[0m\u001b[0mplot\u001b[0m\u001b[0;34m(\u001b[0m\u001b[0mc0\u001b[0m\u001b[0;34m[\u001b[0m\u001b[0;34m:\u001b[0m\u001b[0;34m,\u001b[0m\u001b[0;36m0\u001b[0m\u001b[0;34m]\u001b[0m\u001b[0;34m,\u001b[0m\u001b[0mc0\u001b[0m\u001b[0;34m[\u001b[0m\u001b[0;34m:\u001b[0m\u001b[0;34m,\u001b[0m\u001b[0;36m1\u001b[0m\u001b[0;34m]\u001b[0m\u001b[0;34m,\u001b[0m\u001b[0;34m'o'\u001b[0m\u001b[0;34m,\u001b[0m\u001b[0mcolor\u001b[0m\u001b[0;34m=\u001b[0m\u001b[0;34m'red'\u001b[0m\u001b[0;34m)\u001b[0m\u001b[0;34m\u001b[0m\u001b[0m\n\u001b[0m\u001b[1;32m      4\u001b[0m     \u001b[0mplt\u001b[0m\u001b[0;34m.\u001b[0m\u001b[0mplot\u001b[0m\u001b[0;34m(\u001b[0m\u001b[0mc1\u001b[0m\u001b[0;34m[\u001b[0m\u001b[0;34m:\u001b[0m\u001b[0;34m,\u001b[0m\u001b[0;36m0\u001b[0m\u001b[0;34m]\u001b[0m\u001b[0;34m,\u001b[0m\u001b[0mc1\u001b[0m\u001b[0;34m[\u001b[0m\u001b[0;34m:\u001b[0m\u001b[0;34m,\u001b[0m\u001b[0;36m1\u001b[0m\u001b[0;34m]\u001b[0m\u001b[0;34m,\u001b[0m\u001b[0;34m'^b'\u001b[0m\u001b[0;34m,\u001b[0m\u001b[0mcolor\u001b[0m\u001b[0;34m=\u001b[0m\u001b[0;34m'blue'\u001b[0m\u001b[0;34m)\u001b[0m\u001b[0;34m\u001b[0m\u001b[0m\n\u001b[1;32m      5\u001b[0m     \u001b[0mplt\u001b[0m\u001b[0;34m.\u001b[0m\u001b[0mplot\u001b[0m\u001b[0;34m(\u001b[0m\u001b[0mc2\u001b[0m\u001b[0;34m[\u001b[0m\u001b[0;34m:\u001b[0m\u001b[0;34m,\u001b[0m\u001b[0;36m0\u001b[0m\u001b[0;34m]\u001b[0m\u001b[0;34m,\u001b[0m\u001b[0mc2\u001b[0m\u001b[0;34m[\u001b[0m\u001b[0;34m:\u001b[0m\u001b[0;34m,\u001b[0m\u001b[0;36m1\u001b[0m\u001b[0;34m]\u001b[0m\u001b[0;34m,\u001b[0m\u001b[0;34m'rs'\u001b[0m\u001b[0;34m,\u001b[0m\u001b[0mcolor\u001b[0m\u001b[0;34m=\u001b[0m\u001b[0;34m'green'\u001b[0m\u001b[0;34m)\u001b[0m\u001b[0;34m\u001b[0m\u001b[0m\n",
      "\u001b[0;31mIndexError\u001b[0m: too many indices"
     ]
    }
   ],
   "source": "plot_result(all_data, labels)"
  },
  {
   "cell_type": "code",
   "execution_count": 158,
   "metadata": {},
   "outputs": [],
   "source": "x = np.linspace(0,12,1000)\ny = np.random.rand(1000,)+4\ncluster_0_1 = np.vstack((x,y)).T\nall_data_01 = np.concatenate((cluster_0_1, cluster_1, cluster_2))"
  },
  {
   "cell_type": "code",
   "execution_count": 154,
   "metadata": {
    "scrolled": true
   },
   "outputs": [
    {
     "data": {
      "image/png": "[encoded data removed]",
      "text/plain": "<Figure size 432x288 with 1 Axes>"
     },
     "metadata": {
      "needs_background": "light"
     },
     "output_type": "display_data"
    }
   ],
   "source": "plot_data(cluster_0_1, cluster_1, cluster_2)"
  },
  {
   "cell_type": "code",
   "execution_count": 159,
   "metadata": {},
   "outputs": [
    {
     "name": "stdout",
     "output_type": "stream",
     "text": "[[ 9.03140326  4.39678528]\n [ 9.05278168  0.87982237]\n [ 3.65740486  6.16110777]]\n"
    }
   ],
   "source": "centers, labels =  kmean(all_data_01, K)\nprint(centers)"
  }
 ],
 "metadata": {
  "kernelspec": {
   "display_name": "Python 2",
   "language": "python",
   "name": "python2"
  },
  "language_info": {
   "codemirror_mode": {
    "name": "ipython",
    "version": 2
   },
   "file_extension": ".py",
   "mimetype": "text/x-python",
   "name": "python",
   "nbconvert_exporter": "python",
   "pygments_lexer": "ipython2",
   "version": "2.7.16"
  }
 },
 "nbformat": 4,
 "nbformat_minor": 4
}
